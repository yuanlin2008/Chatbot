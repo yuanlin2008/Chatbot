{
 "cells": [
  {
   "cell_type": "code",
   "execution_count": 2,
   "metadata": {},
   "outputs": [
    {
     "ename": "WebDriverException",
     "evalue": "Message: unknown error: cannot connect to chrome at 127.0.0.1:54481\nfrom chrome not reachable\nStacktrace:\nBacktrace:\n\t(No symbol) [0x00DCDCE3]\n\t(No symbol) [0x00D639D1]\n\t(No symbol) [0x00C74C70]\n\t(No symbol) [0x00C6AFA5]\n\t(No symbol) [0x00C94A28]\n\t(No symbol) [0x00C8EE51]\n\t(No symbol) [0x00C8EC31]\n\t(No symbol) [0x00CC15AE]\n\t(No symbol) [0x00CC129C]\n\t(No symbol) [0x00CBACC6]\n\t(No symbol) [0x00C96F68]\n\t(No symbol) [0x00C980CD]\n\tGetHandleVerifier [0x01043832+2506274]\n\tGetHandleVerifier [0x01079794+2727300]\n\tGetHandleVerifier [0x0107E36C+2746716]\n\tGetHandleVerifier [0x00E76690+617600]\n\t(No symbol) [0x00D6C712]\n\t(No symbol) [0x00D71FF8]\n\t(No symbol) [0x00D720DB]\n\t(No symbol) [0x00D7C63B]\n\tBaseThreadInitThunk [0x76067D49+25]\n\tRtlInitializeExceptionChain [0x7702B74B+107]\n\tRtlClearBits [0x7702B6CF+191]\n",
     "output_type": "error",
     "traceback": [
      "\u001b[1;31m---------------------------------------------------------------------------\u001b[0m",
      "\u001b[1;31mWebDriverException\u001b[0m                        Traceback (most recent call last)",
      "Cell \u001b[1;32mIn[2], line 16\u001b[0m\n\u001b[0;32m     14\u001b[0m options \u001b[39m=\u001b[39m uc\u001b[39m.\u001b[39mChromeOptions()\n\u001b[0;32m     15\u001b[0m options\u001b[39m.\u001b[39muser_data_dir \u001b[39m=\u001b[39m os\u001b[39m.\u001b[39mgetcwd() \u001b[39m+\u001b[39m \u001b[39m\"\u001b[39m\u001b[39m\\\\\u001b[39;00m\u001b[39mbud\u001b[39m\u001b[39m\"\u001b[39m\n\u001b[1;32m---> 16\u001b[0m driver \u001b[39m=\u001b[39m uc\u001b[39m.\u001b[39;49mChrome(options\u001b[39m=\u001b[39;49moptions, version_main\u001b[39m=\u001b[39;49m\u001b[39m111\u001b[39;49m)\n\u001b[0;32m     17\u001b[0m wait \u001b[39m=\u001b[39m WebDriverWait(driver, \u001b[39m10\u001b[39m)\n\u001b[0;32m     18\u001b[0m driver\u001b[39m.\u001b[39mget(\u001b[39m'\u001b[39m\u001b[39mhttps://www.zhihu.com/topic/19557876/top-answers\u001b[39m\u001b[39m'\u001b[39m)\n",
      "File \u001b[1;32mc:\\Users\\Administrator\\anaconda3\\envs\\scraper\\lib\\site-packages\\undetected_chromedriver\\__init__.py:441\u001b[0m, in \u001b[0;36mChrome.__init__\u001b[1;34m(self, options, user_data_dir, driver_executable_path, browser_executable_path, port, enable_cdp_events, service_args, service_creationflags, desired_capabilities, advanced_elements, service_log_path, keep_alive, log_level, headless, version_main, patcher_force_close, suppress_welcome, use_subprocess, debug, no_sandbox, **kw)\u001b[0m\n\u001b[0;32m    438\u001b[0m \u001b[39melse\u001b[39;00m:\n\u001b[0;32m    439\u001b[0m     service \u001b[39m=\u001b[39m \u001b[39mNone\u001b[39;00m\n\u001b[1;32m--> 441\u001b[0m \u001b[39msuper\u001b[39;49m(Chrome, \u001b[39mself\u001b[39;49m)\u001b[39m.\u001b[39;49m\u001b[39m__init__\u001b[39;49m(\n\u001b[0;32m    442\u001b[0m     executable_path\u001b[39m=\u001b[39;49m\u001b[39mself\u001b[39;49m\u001b[39m.\u001b[39;49mpatcher\u001b[39m.\u001b[39;49mexecutable_path,\n\u001b[0;32m    443\u001b[0m     port\u001b[39m=\u001b[39;49mport,\n\u001b[0;32m    444\u001b[0m     options\u001b[39m=\u001b[39;49moptions,\n\u001b[0;32m    445\u001b[0m     service_args\u001b[39m=\u001b[39;49mservice_args,\n\u001b[0;32m    446\u001b[0m     desired_capabilities\u001b[39m=\u001b[39;49mdesired_capabilities,\n\u001b[0;32m    447\u001b[0m     service_log_path\u001b[39m=\u001b[39;49mservice_log_path,\n\u001b[0;32m    448\u001b[0m     keep_alive\u001b[39m=\u001b[39;49mkeep_alive,\n\u001b[0;32m    449\u001b[0m     service\u001b[39m=\u001b[39;49mservice,  \u001b[39m# needed or the service will be re-created\u001b[39;49;00m\n\u001b[0;32m    450\u001b[0m )\n\u001b[0;32m    452\u001b[0m \u001b[39mself\u001b[39m\u001b[39m.\u001b[39mreactor \u001b[39m=\u001b[39m \u001b[39mNone\u001b[39;00m\n\u001b[0;32m    454\u001b[0m \u001b[39mif\u001b[39;00m enable_cdp_events:\n",
      "File \u001b[1;32mc:\\Users\\Administrator\\anaconda3\\envs\\scraper\\lib\\site-packages\\selenium\\webdriver\\chrome\\webdriver.py:80\u001b[0m, in \u001b[0;36mWebDriver.__init__\u001b[1;34m(self, executable_path, port, options, service_args, desired_capabilities, service_log_path, chrome_options, service, keep_alive)\u001b[0m\n\u001b[0;32m     77\u001b[0m \u001b[39mif\u001b[39;00m \u001b[39mnot\u001b[39;00m service:\n\u001b[0;32m     78\u001b[0m     service \u001b[39m=\u001b[39m Service(executable_path, port, service_args, service_log_path)\n\u001b[1;32m---> 80\u001b[0m \u001b[39msuper\u001b[39;49m()\u001b[39m.\u001b[39;49m\u001b[39m__init__\u001b[39;49m(\n\u001b[0;32m     81\u001b[0m     DesiredCapabilities\u001b[39m.\u001b[39;49mCHROME[\u001b[39m\"\u001b[39;49m\u001b[39mbrowserName\u001b[39;49m\u001b[39m\"\u001b[39;49m],\n\u001b[0;32m     82\u001b[0m     \u001b[39m\"\u001b[39;49m\u001b[39mgoog\u001b[39;49m\u001b[39m\"\u001b[39;49m,\n\u001b[0;32m     83\u001b[0m     port,\n\u001b[0;32m     84\u001b[0m     options,\n\u001b[0;32m     85\u001b[0m     service_args,\n\u001b[0;32m     86\u001b[0m     desired_capabilities,\n\u001b[0;32m     87\u001b[0m     service_log_path,\n\u001b[0;32m     88\u001b[0m     service,\n\u001b[0;32m     89\u001b[0m     keep_alive,\n\u001b[0;32m     90\u001b[0m )\n",
      "File \u001b[1;32mc:\\Users\\Administrator\\anaconda3\\envs\\scraper\\lib\\site-packages\\selenium\\webdriver\\chromium\\webdriver.py:104\u001b[0m, in \u001b[0;36mChromiumDriver.__init__\u001b[1;34m(self, browser_name, vendor_prefix, port, options, service_args, desired_capabilities, service_log_path, service, keep_alive)\u001b[0m\n\u001b[0;32m    101\u001b[0m \u001b[39mself\u001b[39m\u001b[39m.\u001b[39mservice\u001b[39m.\u001b[39mstart()\n\u001b[0;32m    103\u001b[0m \u001b[39mtry\u001b[39;00m:\n\u001b[1;32m--> 104\u001b[0m     \u001b[39msuper\u001b[39;49m()\u001b[39m.\u001b[39;49m\u001b[39m__init__\u001b[39;49m(\n\u001b[0;32m    105\u001b[0m         command_executor\u001b[39m=\u001b[39;49mChromiumRemoteConnection(\n\u001b[0;32m    106\u001b[0m             remote_server_addr\u001b[39m=\u001b[39;49m\u001b[39mself\u001b[39;49m\u001b[39m.\u001b[39;49mservice\u001b[39m.\u001b[39;49mservice_url,\n\u001b[0;32m    107\u001b[0m             browser_name\u001b[39m=\u001b[39;49mbrowser_name,\n\u001b[0;32m    108\u001b[0m             vendor_prefix\u001b[39m=\u001b[39;49mvendor_prefix,\n\u001b[0;32m    109\u001b[0m             keep_alive\u001b[39m=\u001b[39;49mkeep_alive,\n\u001b[0;32m    110\u001b[0m             ignore_proxy\u001b[39m=\u001b[39;49m_ignore_proxy,\n\u001b[0;32m    111\u001b[0m         ),\n\u001b[0;32m    112\u001b[0m         options\u001b[39m=\u001b[39;49moptions,\n\u001b[0;32m    113\u001b[0m     )\n\u001b[0;32m    114\u001b[0m \u001b[39mexcept\u001b[39;00m \u001b[39mException\u001b[39;00m:\n\u001b[0;32m    115\u001b[0m     \u001b[39mself\u001b[39m\u001b[39m.\u001b[39mquit()\n",
      "File \u001b[1;32mc:\\Users\\Administrator\\anaconda3\\envs\\scraper\\lib\\site-packages\\selenium\\webdriver\\remote\\webdriver.py:286\u001b[0m, in \u001b[0;36mWebDriver.__init__\u001b[1;34m(self, command_executor, desired_capabilities, browser_profile, proxy, keep_alive, file_detector, options)\u001b[0m\n\u001b[0;32m    284\u001b[0m \u001b[39mself\u001b[39m\u001b[39m.\u001b[39m_authenticator_id \u001b[39m=\u001b[39m \u001b[39mNone\u001b[39;00m\n\u001b[0;32m    285\u001b[0m \u001b[39mself\u001b[39m\u001b[39m.\u001b[39mstart_client()\n\u001b[1;32m--> 286\u001b[0m \u001b[39mself\u001b[39;49m\u001b[39m.\u001b[39;49mstart_session(capabilities, browser_profile)\n",
      "File \u001b[1;32mc:\\Users\\Administrator\\anaconda3\\envs\\scraper\\lib\\site-packages\\undetected_chromedriver\\__init__.py:704\u001b[0m, in \u001b[0;36mChrome.start_session\u001b[1;34m(self, capabilities, browser_profile)\u001b[0m\n\u001b[0;32m    702\u001b[0m \u001b[39mif\u001b[39;00m \u001b[39mnot\u001b[39;00m capabilities:\n\u001b[0;32m    703\u001b[0m     capabilities \u001b[39m=\u001b[39m \u001b[39mself\u001b[39m\u001b[39m.\u001b[39moptions\u001b[39m.\u001b[39mto_capabilities()\n\u001b[1;32m--> 704\u001b[0m \u001b[39msuper\u001b[39;49m(selenium\u001b[39m.\u001b[39;49mwebdriver\u001b[39m.\u001b[39;49mchrome\u001b[39m.\u001b[39;49mwebdriver\u001b[39m.\u001b[39;49mWebDriver, \u001b[39mself\u001b[39;49m)\u001b[39m.\u001b[39;49mstart_session(\n\u001b[0;32m    705\u001b[0m     capabilities, browser_profile\n\u001b[0;32m    706\u001b[0m )\n",
      "File \u001b[1;32mc:\\Users\\Administrator\\anaconda3\\envs\\scraper\\lib\\site-packages\\selenium\\webdriver\\remote\\webdriver.py:378\u001b[0m, in \u001b[0;36mWebDriver.start_session\u001b[1;34m(self, capabilities, browser_profile)\u001b[0m\n\u001b[0;32m    376\u001b[0m w3c_caps \u001b[39m=\u001b[39m _make_w3c_caps(capabilities)\n\u001b[0;32m    377\u001b[0m parameters \u001b[39m=\u001b[39m {\u001b[39m\"\u001b[39m\u001b[39mcapabilities\u001b[39m\u001b[39m\"\u001b[39m: w3c_caps}\n\u001b[1;32m--> 378\u001b[0m response \u001b[39m=\u001b[39m \u001b[39mself\u001b[39;49m\u001b[39m.\u001b[39;49mexecute(Command\u001b[39m.\u001b[39;49mNEW_SESSION, parameters)\n\u001b[0;32m    379\u001b[0m \u001b[39mif\u001b[39;00m \u001b[39m\"\u001b[39m\u001b[39msessionId\u001b[39m\u001b[39m\"\u001b[39m \u001b[39mnot\u001b[39;00m \u001b[39min\u001b[39;00m response:\n\u001b[0;32m    380\u001b[0m     response \u001b[39m=\u001b[39m response[\u001b[39m\"\u001b[39m\u001b[39mvalue\u001b[39m\u001b[39m\"\u001b[39m]\n",
      "File \u001b[1;32mc:\\Users\\Administrator\\anaconda3\\envs\\scraper\\lib\\site-packages\\selenium\\webdriver\\remote\\webdriver.py:440\u001b[0m, in \u001b[0;36mWebDriver.execute\u001b[1;34m(self, driver_command, params)\u001b[0m\n\u001b[0;32m    438\u001b[0m response \u001b[39m=\u001b[39m \u001b[39mself\u001b[39m\u001b[39m.\u001b[39mcommand_executor\u001b[39m.\u001b[39mexecute(driver_command, params)\n\u001b[0;32m    439\u001b[0m \u001b[39mif\u001b[39;00m response:\n\u001b[1;32m--> 440\u001b[0m     \u001b[39mself\u001b[39;49m\u001b[39m.\u001b[39;49merror_handler\u001b[39m.\u001b[39;49mcheck_response(response)\n\u001b[0;32m    441\u001b[0m     response[\u001b[39m\"\u001b[39m\u001b[39mvalue\u001b[39m\u001b[39m\"\u001b[39m] \u001b[39m=\u001b[39m \u001b[39mself\u001b[39m\u001b[39m.\u001b[39m_unwrap_value(response\u001b[39m.\u001b[39mget(\u001b[39m\"\u001b[39m\u001b[39mvalue\u001b[39m\u001b[39m\"\u001b[39m, \u001b[39mNone\u001b[39;00m))\n\u001b[0;32m    442\u001b[0m     \u001b[39mreturn\u001b[39;00m response\n",
      "File \u001b[1;32mc:\\Users\\Administrator\\anaconda3\\envs\\scraper\\lib\\site-packages\\selenium\\webdriver\\remote\\errorhandler.py:245\u001b[0m, in \u001b[0;36mErrorHandler.check_response\u001b[1;34m(self, response)\u001b[0m\n\u001b[0;32m    243\u001b[0m         alert_text \u001b[39m=\u001b[39m value[\u001b[39m\"\u001b[39m\u001b[39malert\u001b[39m\u001b[39m\"\u001b[39m]\u001b[39m.\u001b[39mget(\u001b[39m\"\u001b[39m\u001b[39mtext\u001b[39m\u001b[39m\"\u001b[39m)\n\u001b[0;32m    244\u001b[0m     \u001b[39mraise\u001b[39;00m exception_class(message, screen, stacktrace, alert_text)  \u001b[39m# type: ignore[call-arg]  # mypy is not smart enough here\u001b[39;00m\n\u001b[1;32m--> 245\u001b[0m \u001b[39mraise\u001b[39;00m exception_class(message, screen, stacktrace)\n",
      "\u001b[1;31mWebDriverException\u001b[0m: Message: unknown error: cannot connect to chrome at 127.0.0.1:54481\nfrom chrome not reachable\nStacktrace:\nBacktrace:\n\t(No symbol) [0x00DCDCE3]\n\t(No symbol) [0x00D639D1]\n\t(No symbol) [0x00C74C70]\n\t(No symbol) [0x00C6AFA5]\n\t(No symbol) [0x00C94A28]\n\t(No symbol) [0x00C8EE51]\n\t(No symbol) [0x00C8EC31]\n\t(No symbol) [0x00CC15AE]\n\t(No symbol) [0x00CC129C]\n\t(No symbol) [0x00CBACC6]\n\t(No symbol) [0x00C96F68]\n\t(No symbol) [0x00C980CD]\n\tGetHandleVerifier [0x01043832+2506274]\n\tGetHandleVerifier [0x01079794+2727300]\n\tGetHandleVerifier [0x0107E36C+2746716]\n\tGetHandleVerifier [0x00E76690+617600]\n\t(No symbol) [0x00D6C712]\n\t(No symbol) [0x00D71FF8]\n\t(No symbol) [0x00D720DB]\n\t(No symbol) [0x00D7C63B]\n\tBaseThreadInitThunk [0x76067D49+25]\n\tRtlInitializeExceptionChain [0x7702B74B+107]\n\tRtlClearBits [0x7702B6CF+191]\n"
     ]
    }
   ],
   "source": [
    "import undetected_chromedriver as uc\n",
    "import random\n",
    "import win32api\n",
    "import win32con\n",
    "import win32gui\n",
    "import os\n",
    "import time\n",
    "from selenium.webdriver.common.by import By\n",
    "from selenium.webdriver.common.keys import Keys\n",
    "from selenium.webdriver.support.wait import WebDriverWait\n",
    "from selenium.webdriver.support import expected_conditions as EC\n",
    "\n",
    "\n",
    "options = uc.ChromeOptions()\n",
    "options.user_data_dir = os.getcwd() + \"\\\\bud\"\n",
    "driver = uc.Chrome(options=options, version_main=111)\n",
    "wait = WebDriverWait(driver, 10)\n",
    "driver.get('https://www.zhihu.com/topic/19557876/top-answers')\n",
    "#driver.get('https://www.zhihu.com/search?q=\"找工作\"&type=topic')\n",
    "\n",
    "#input = wait.until(EC.presence_of_element_located((By.XPATH, '//*[@id=\"Popover1-toggle\"]')))\n",
    "#input.clear()\n",
    "#input.send_keys('职场' + Keys.ENTER)\n",
    "#time.sleep(5)\n",
    "#topic = wait.until(EC.presence_of_element_located((By.XPATH, '//*[@id=\"root\"]/div/main/div/div[1]/div/div/ul/li[3]/a')))\n",
    "#time.sleep(5)\n",
    "#topic.click()"
   ]
  },
  {
   "cell_type": "code",
   "execution_count": null,
   "metadata": {},
   "outputs": [],
   "source": [
    "n = 0\n",
    "hwnd = driver.current_window_handle\n",
    "while True:\n",
    "    time.sleep(2)\n",
    "    n = random.randrange(100, 200)\n",
    "    rect = driver.get_window_rect()\n",
    "    print(rect)\n",
    "    win32api.SetCursorPos((rect['x']+rect['width']//2, rect['y']+rect['height']//2))\n",
    "    win32api.mouse_event(win32con.MOUSEEVENTF_WHEEL, 0,0,-500)\n",
    "    #driver.execute_script(f\"window.scrollBy(0,{n})\")"
   ]
  }
 ],
 "metadata": {
  "kernelspec": {
   "display_name": "scraper",
   "language": "python",
   "name": "python3"
  },
  "language_info": {
   "codemirror_mode": {
    "name": "ipython",
    "version": 3
   },
   "file_extension": ".py",
   "mimetype": "text/x-python",
   "name": "python",
   "nbconvert_exporter": "python",
   "pygments_lexer": "ipython3",
   "version": "3.9.16"
  },
  "orig_nbformat": 4
 },
 "nbformat": 4,
 "nbformat_minor": 2
}
