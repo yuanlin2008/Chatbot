{
 "cells": [
  {
   "cell_type": "code",
   "execution_count": null,
   "metadata": {},
   "outputs": [],
   "source": [
    "from selenium import webdriver\n",
    "import os\n",
    "import time\n",
    "import subprocess"
   ]
  },
  {
   "cell_type": "code",
   "execution_count": null,
   "metadata": {},
   "outputs": [],
   "source": [
    "chrome_cmd = '\"C:\\\\Program Files\\\\Google\\\\Chrome\\\\Application\\\\chrome.exe\"'\n",
    "port = 9222\n",
    "data_dir = os.getcwd() + \"\\\\bud\"\n",
    "\n",
    "cmd = f'{chrome_cmd} --remote-debugging-port={port} --user-data-dir=\"{data_dir}\"'\n",
    "cmd\n",
    "#subprocess.run(chrome_cmd)"
   ]
  },
  {
   "cell_type": "code",
   "execution_count": null,
   "metadata": {},
   "outputs": [],
   "source": [
    "options = webdriver.ChromeOptions()\n",
    "options.add_argument(f'user-data-dir={data_dir}')\n",
    "options.add_experimental_option(\"excludeSwitches\", [\"enable-automation\"])\n",
    "options.add_experimental_option('useAutomationExtension', False)\n",
    "b = webdriver.Chrome(options = options)\n",
    "b.execute_cdp_cmd(\"Page.addScriptToEvaluateOnNewDocument\", {\n",
    "  \"source\": \"\"\"\n",
    "    Object.defineProperty(navigator, 'webdriver', {\n",
    "      get: () => undefined\n",
    "    })\n",
    "  \"\"\"\n",
    "})"
   ]
  },
  {
   "cell_type": "code",
   "execution_count": null,
   "metadata": {},
   "outputs": [],
   "source": [
    "b.get('https://www.zhihu.com/topic/19557876/top-answers')\n",
    "time.sleep(10)\n",
    "#获取页面高度\n",
    "height = b.execute_script(\"return action=document.body.scrollHeight\")\n",
    "#将滚动条调到页面底部\n",
    "b.execute_script(\"window.scrollTo(0,document.body.scrollHeight)\")\n",
    "time.sleep(5)\n",
    "#定义一个初始时间戳\n",
    "t1 = int(time.time())\n",
    "num = 0\n",
    "while True:\n",
    "    #获取当前的时间戳\n",
    "    t2 = int(time.time())\n",
    "    # 判断时间初始时间戳和当前时间戳相差是否大于30秒，小于30秒则下拉滚动条\n",
    "    if t2 - t1 < 30:\n",
    "        new_height = b.execute_script(\"return action=document.body.scrollHeight\")\n",
    "        if new_height > height:\n",
    "            time.sleep(1)\n",
    "            b.execute_script('window.scrollTo(0, document.body.scrollHeight)')\n",
    "            # 重置初始页面高度\n",
    "            height = new_height\n",
    "            # 重置初始时间戳，重新计时\n",
    "            t1 = int(time.time())\n",
    "    elif num < 3:  # 当超过30秒页面高度仍然没有更新时，进入重试逻辑，重试3次，每次等待20秒\n",
    "        time.sleep(20)\n",
    "        num = num + 1\n",
    "    else:  # 超时并超过重试次数，程序结束跳出循环，并认为页面已经加载完毕！\n",
    "        print(\"滚动条已经处于页面最下方！\")\n",
    "        # 滚动条调整至页面顶部\n",
    "        b.execute_script('window.scrollTo(0, 0)')\n",
    "        break"
   ]
  },
  {
   "cell_type": "code",
   "execution_count": null,
   "metadata": {},
   "outputs": [],
   "source": [
    "b.quit()"
   ]
  },
  {
   "cell_type": "code",
   "execution_count": 53,
   "metadata": {},
   "outputs": [],
   "source": [
    "import undetected_chromedriver as uc\n",
    "from selenium.webdriver import ActionChains\n",
    "import random\n",
    "\n",
    "options = uc.ChromeOptions()\n",
    "options.user_data_dir = os.getcwd() + \"\\\\bud\"\n",
    "driver = uc.Chrome(options=options, version_main=111)\n",
    "#driver.get('https://www.zhihu.com/topic/19557876/top-answers')\n",
    "driver.get('https://www.zhihu.com')\n"
   ]
  },
  {
   "cell_type": "code",
   "execution_count": null,
   "metadata": {},
   "outputs": [],
   "source": [
    "n = 0\n",
    "while True:\n",
    "    time.sleep(2)\n",
    "    n = random.randrange(100, 200)\n",
    "    ActionChains(driver).scroll_by_amount(0, n).perform()\n",
    "    #driver.execute_script(f\"window.scrollBy(0,{n})\")"
   ]
  },
  {
   "cell_type": "code",
   "execution_count": 54,
   "metadata": {},
   "outputs": [
    {
     "ename": "NoSuchWindowException",
     "evalue": "Message: no such window: target window already closed\nfrom unknown error: web view not found\n  (Session info: chrome=111.0.5563.147)\nStacktrace:\nBacktrace:\n\t(No symbol) [0x00A8DCE3]\n\t(No symbol) [0x00A239D1]\n\t(No symbol) [0x00934DA8]\n\t(No symbol) [0x0091D0D3]\n\t(No symbol) [0x0097EA8B]\n\t(No symbol) [0x0098D093]\n\t(No symbol) [0x0097ACC6]\n\t(No symbol) [0x00956F68]\n\t(No symbol) [0x009580CD]\n\tGetHandleVerifier [0x00D03832+2506274]\n\tGetHandleVerifier [0x00D39794+2727300]\n\tGetHandleVerifier [0x00D3E36C+2746716]\n\tGetHandleVerifier [0x00B36690+617600]\n\t(No symbol) [0x00A2C712]\n\t(No symbol) [0x00A31FF8]\n\t(No symbol) [0x00A320DB]\n\t(No symbol) [0x00A3C63B]\n\tBaseThreadInitThunk [0x76EE7D69+25]\n\tRtlInitializeExceptionChain [0x77DBB74B+107]\n\tRtlClearBits [0x77DBB6CF+191]\n",
     "output_type": "error",
     "traceback": [
      "\u001b[1;31m---------------------------------------------------------------------------\u001b[0m",
      "\u001b[1;31mNoSuchWindowException\u001b[0m                     Traceback (most recent call last)",
      "Cell \u001b[1;32mIn[54], line 19\u001b[0m\n\u001b[0;32m     17\u001b[0m \u001b[39mif\u001b[39;00m new_height \u001b[39m>\u001b[39m height:\n\u001b[0;32m     18\u001b[0m     time\u001b[39m.\u001b[39msleep(\u001b[39m1\u001b[39m)\n\u001b[1;32m---> 19\u001b[0m     driver\u001b[39m.\u001b[39;49mexecute_script(\u001b[39m'\u001b[39;49m\u001b[39mwindow.scrollTo(0, document.body.scrollHeight)\u001b[39;49m\u001b[39m'\u001b[39;49m)\n\u001b[0;32m     20\u001b[0m     \u001b[39m# 重置初始页面高度\u001b[39;00m\n\u001b[0;32m     21\u001b[0m     height \u001b[39m=\u001b[39m new_height\n",
      "File \u001b[1;32mc:\\Users\\Administrator\\anaconda3\\envs\\scraper\\lib\\site-packages\\selenium\\webdriver\\remote\\webdriver.py:500\u001b[0m, in \u001b[0;36mWebDriver.execute_script\u001b[1;34m(self, script, *args)\u001b[0m\n\u001b[0;32m    497\u001b[0m converted_args \u001b[39m=\u001b[39m \u001b[39mlist\u001b[39m(args)\n\u001b[0;32m    498\u001b[0m command \u001b[39m=\u001b[39m Command\u001b[39m.\u001b[39mW3C_EXECUTE_SCRIPT\n\u001b[1;32m--> 500\u001b[0m \u001b[39mreturn\u001b[39;00m \u001b[39mself\u001b[39;49m\u001b[39m.\u001b[39;49mexecute(command, {\u001b[39m\"\u001b[39;49m\u001b[39mscript\u001b[39;49m\u001b[39m\"\u001b[39;49m: script, \u001b[39m\"\u001b[39;49m\u001b[39margs\u001b[39;49m\u001b[39m\"\u001b[39;49m: converted_args})[\u001b[39m\"\u001b[39m\u001b[39mvalue\u001b[39m\u001b[39m\"\u001b[39m]\n",
      "File \u001b[1;32mc:\\Users\\Administrator\\anaconda3\\envs\\scraper\\lib\\site-packages\\selenium\\webdriver\\remote\\webdriver.py:440\u001b[0m, in \u001b[0;36mWebDriver.execute\u001b[1;34m(self, driver_command, params)\u001b[0m\n\u001b[0;32m    438\u001b[0m response \u001b[39m=\u001b[39m \u001b[39mself\u001b[39m\u001b[39m.\u001b[39mcommand_executor\u001b[39m.\u001b[39mexecute(driver_command, params)\n\u001b[0;32m    439\u001b[0m \u001b[39mif\u001b[39;00m response:\n\u001b[1;32m--> 440\u001b[0m     \u001b[39mself\u001b[39;49m\u001b[39m.\u001b[39;49merror_handler\u001b[39m.\u001b[39;49mcheck_response(response)\n\u001b[0;32m    441\u001b[0m     response[\u001b[39m\"\u001b[39m\u001b[39mvalue\u001b[39m\u001b[39m\"\u001b[39m] \u001b[39m=\u001b[39m \u001b[39mself\u001b[39m\u001b[39m.\u001b[39m_unwrap_value(response\u001b[39m.\u001b[39mget(\u001b[39m\"\u001b[39m\u001b[39mvalue\u001b[39m\u001b[39m\"\u001b[39m, \u001b[39mNone\u001b[39;00m))\n\u001b[0;32m    442\u001b[0m     \u001b[39mreturn\u001b[39;00m response\n",
      "File \u001b[1;32mc:\\Users\\Administrator\\anaconda3\\envs\\scraper\\lib\\site-packages\\selenium\\webdriver\\remote\\errorhandler.py:245\u001b[0m, in \u001b[0;36mErrorHandler.check_response\u001b[1;34m(self, response)\u001b[0m\n\u001b[0;32m    243\u001b[0m         alert_text \u001b[39m=\u001b[39m value[\u001b[39m\"\u001b[39m\u001b[39malert\u001b[39m\u001b[39m\"\u001b[39m]\u001b[39m.\u001b[39mget(\u001b[39m\"\u001b[39m\u001b[39mtext\u001b[39m\u001b[39m\"\u001b[39m)\n\u001b[0;32m    244\u001b[0m     \u001b[39mraise\u001b[39;00m exception_class(message, screen, stacktrace, alert_text)  \u001b[39m# type: ignore[call-arg]  # mypy is not smart enough here\u001b[39;00m\n\u001b[1;32m--> 245\u001b[0m \u001b[39mraise\u001b[39;00m exception_class(message, screen, stacktrace)\n",
      "\u001b[1;31mNoSuchWindowException\u001b[0m: Message: no such window: target window already closed\nfrom unknown error: web view not found\n  (Session info: chrome=111.0.5563.147)\nStacktrace:\nBacktrace:\n\t(No symbol) [0x00A8DCE3]\n\t(No symbol) [0x00A239D1]\n\t(No symbol) [0x00934DA8]\n\t(No symbol) [0x0091D0D3]\n\t(No symbol) [0x0097EA8B]\n\t(No symbol) [0x0098D093]\n\t(No symbol) [0x0097ACC6]\n\t(No symbol) [0x00956F68]\n\t(No symbol) [0x009580CD]\n\tGetHandleVerifier [0x00D03832+2506274]\n\tGetHandleVerifier [0x00D39794+2727300]\n\tGetHandleVerifier [0x00D3E36C+2746716]\n\tGetHandleVerifier [0x00B36690+617600]\n\t(No symbol) [0x00A2C712]\n\t(No symbol) [0x00A31FF8]\n\t(No symbol) [0x00A320DB]\n\t(No symbol) [0x00A3C63B]\n\tBaseThreadInitThunk [0x76EE7D69+25]\n\tRtlInitializeExceptionChain [0x77DBB74B+107]\n\tRtlClearBits [0x77DBB6CF+191]\n"
     ]
    }
   ],
   "source": [
    "\n",
    "#driver.get('https://www.zhihu.com/topic/19557876/top-answers')\n",
    "#time.sleep(10)\n",
    "#获取页面高度\n",
    "height = driver.execute_script(\"return action=document.body.scrollHeight\")\n",
    "#将滚动条调到页面底部\n",
    "driver.execute_script(\"window.scrollTo(0,document.body.scrollHeight/2)\")\n",
    "time.sleep(5)\n",
    "#定义一个初始时间戳\n",
    "t1 = int(time.time())\n",
    "num = 0\n",
    "while True:\n",
    "    #获取当前的时间戳\n",
    "    t2 = int(time.time())\n",
    "    # 判断时间初始时间戳和当前时间戳相差是否大于30秒，小于30秒则下拉滚动条\n",
    "    if t2 - t1 < 30:\n",
    "        new_height = driver.execute_script(\"return action=document.body.scrollHeight\")\n",
    "        if new_height > height:\n",
    "            time.sleep(1)\n",
    "            driver.execute_script('window.scrollTo(0, document.body.scrollHeight)')\n",
    "            # 重置初始页面高度\n",
    "            height = new_height\n",
    "            # 重置初始时间戳，重新计时\n",
    "            t1 = int(time.time())\n",
    "    elif num < 3:  # 当超过30秒页面高度仍然没有更新时，进入重试逻辑，重试3次，每次等待20秒\n",
    "        time.sleep(20)\n",
    "        num = num + 1\n",
    "    else:  # 超时并超过重试次数，程序结束跳出循环，并认为页面已经加载完毕！\n",
    "        print(\"滚动条已经处于页面最下方！\")\n",
    "        # 滚动条调整至页面顶部\n",
    "        driver.execute_script('window.scrollTo(0, 0)')\n",
    "        break"
   ]
  }
 ],
 "metadata": {
  "kernelspec": {
   "display_name": "scraper",
   "language": "python",
   "name": "python3"
  },
  "language_info": {
   "codemirror_mode": {
    "name": "ipython",
    "version": 3
   },
   "file_extension": ".py",
   "mimetype": "text/x-python",
   "name": "python",
   "nbconvert_exporter": "python",
   "pygments_lexer": "ipython3",
   "version": "3.9.16"
  },
  "orig_nbformat": 4
 },
 "nbformat": 4,
 "nbformat_minor": 2
}
