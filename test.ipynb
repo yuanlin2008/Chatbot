{
 "cells": [
  {
   "cell_type": "code",
   "execution_count": 1,
   "metadata": {},
   "outputs": [
    {
     "name": "stderr",
     "output_type": "stream",
     "text": [
      "c:\\Users\\Administrator\\anaconda3\\envs\\chatbot\\lib\\site-packages\\undetected_chromedriver\\__init__.py:326: UserWarning: using ChromeOptions.user_data_dir might stop working in future versions.use uc.Chrome(user_data_dir='/xyz/some/data') in case you need existing profile folder\n",
      "  warnings.warn(\n"
     ]
    }
   ],
   "source": [
    "import undetected_chromedriver as uc\n",
    "import random\n",
    "import win32api\n",
    "import win32con\n",
    "import win32gui\n",
    "import os\n",
    "import time\n",
    "from selenium.webdriver.common.by import By\n",
    "from selenium.webdriver.common.keys import Keys\n",
    "from selenium.webdriver.support.wait import WebDriverWait\n",
    "from selenium.webdriver.support import expected_conditions as EC\n",
    "\n",
    "\n",
    "options = uc.ChromeOptions()\n",
    "options.user_data_dir = os.getcwd() + \"\\\\bud\"\n",
    "driver = uc.Chrome(options=options, version_main=111)\n",
    "wait = WebDriverWait(driver, 10)\n",
    "driver.get('https://www.zhihu.com/topic/19557876/top-answers')\n",
    "#driver.get('https://www.zhihu.com/search?q=\"找工作\"&type=topic')\n",
    "\n",
    "#input = wait.until(EC.presence_of_element_located((By.XPATH, '//*[@id=\"Popover1-toggle\"]')))\n",
    "#input.clear()\n",
    "#input.send_keys('职场' + Keys.ENTER)\n",
    "#time.sleep(5)\n",
    "#topic = wait.until(EC.presence_of_element_located((By.XPATH, '//*[@id=\"root\"]/div/main/div/div[1]/div/div/ul/li[3]/a')))\n",
    "#time.sleep(5)\n",
    "#topic.click()"
   ]
  },
  {
   "cell_type": "code",
   "execution_count": null,
   "metadata": {},
   "outputs": [],
   "source": [
    "n = 0\n",
    "hwnd = driver.current_window_handle\n",
    "while True:\n",
    "    time.sleep(2)\n",
    "    n = random.randrange(100, 200)\n",
    "    rect = driver.get_window_rect()\n",
    "    print(rect)\n",
    "    win32api.SetCursorPos((rect['x']+rect['width']//2, rect['y']+rect['height']//2))\n",
    "    win32api.mouse_event(win32con.MOUSEEVENTF_WHEEL, 0,0,-500)\n",
    "    #driver.execute_script(f\"window.scrollBy(0,{n})\")"
   ]
  }
 ],
 "metadata": {
  "kernelspec": {
   "display_name": "scraper",
   "language": "python",
   "name": "python3"
  },
  "language_info": {
   "codemirror_mode": {
    "name": "ipython",
    "version": 3
   },
   "file_extension": ".py",
   "mimetype": "text/x-python",
   "name": "python",
   "nbconvert_exporter": "python",
   "pygments_lexer": "ipython3",
   "version": "3.9.16"
  },
  "orig_nbformat": 4
 },
 "nbformat": 4,
 "nbformat_minor": 2
}
